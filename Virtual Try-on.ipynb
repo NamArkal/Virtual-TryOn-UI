{
 "cells": [
  {
   "cell_type": "code",
   "execution_count": 1,
   "id": "35ca18e3",
   "metadata": {},
   "outputs": [],
   "source": [
    "import gradio as gr"
   ]
  },
  {
   "cell_type": "code",
   "execution_count": 6,
   "id": "648fe9c3",
   "metadata": {},
   "outputs": [],
   "source": [
    "### Psuedo code for writing prediction function for virtual try-on ###\n",
    "# Create a virtual try-on function that takes 2 inputs ? \n",
    "# One is image of person, second is image of clothes\n",
    "# Correctly catch and return errors if any\n",
    "# Return model's prediction of image of person with clothes\n",
    "# Provide example inputs and output"
   ]
  },
  {
   "cell_type": "code",
   "execution_count": null,
   "id": "e1820863",
   "metadata": {},
   "outputs": [],
   "source": [
    "def virtual_tryon(ref_image, clothes_image):\n",
    "    model = # Load trained model\n",
    "    error_msg = None\n",
    "    try:\n",
    "        synthesized_image = # model.predict(ref_image, clothes_image)\n",
    "    except:\n",
    "        error_msg = synthesized_image\n",
    "        gr.Error(error_msg) # Is this the right place for the error?\n",
    "    return synthesized_image"
   ]
  },
  {
   "cell_type": "code",
   "execution_count": null,
   "id": "d29311d8",
   "metadata": {},
   "outputs": [],
   "source": [
    "# demo = gr.Interface(fn = virtual_tryon, \n",
    "#                    inputs = [gr.Image(shape=(200, 200)), gr.Image(shape=(200, 200))],\n",
    "#                    outputs = 'image',\n",
    "#                    examples=[<sample_img1>, <sample_img2>])"
   ]
  },
  {
   "cell_type": "code",
   "execution_count": null,
   "id": "1b1b2a9d",
   "metadata": {},
   "outputs": [],
   "source": [
    "with gr.Blocks() as demo:\n",
    "    gr.Title(\"Welcome to Virtual Try-on\")\n",
    "    gr.Description(\"See how you look with different clothes\")\n",
    "    img_ref = gr.Image(label=\"Reference image or image of you/person\")\n",
    "    img_clothes = gr.Image(label=\"Image of clothing item\")\n",
    "    output = gr.Image(label=\"Synthesized image of clothing item on reference image\")\n",
    "    submit_btn = gr.Button(\"Submit\")\n",
    "    # How to handle error here or is it gracefully handled by the model itself?\n",
    "    submit_btn.click(fn=virutal_tryon, inputs=[img_ref, img_clothes], outputs=output)\n",
    "    gr.Examples([<sample_img1>, <sample_img2>], inputs=[img_ref, img_clothes])\n",
    "    gr.Article(\"<a href=\\\"https://github.com/sangyun884/HR-VITON\\\">Click here</a>  to see the model referenced.\") # Right usage?"
   ]
  },
  {
   "cell_type": "code",
   "execution_count": null,
   "id": "37a64ee2",
   "metadata": {},
   "outputs": [],
   "source": [
    "demo.launch()"
   ]
  }
 ],
 "metadata": {
  "kernelspec": {
   "display_name": "Python 3 (ipykernel)",
   "language": "python",
   "name": "python3"
  },
  "language_info": {
   "codemirror_mode": {
    "name": "ipython",
    "version": 3
   },
   "file_extension": ".py",
   "mimetype": "text/x-python",
   "name": "python",
   "nbconvert_exporter": "python",
   "pygments_lexer": "ipython3",
   "version": "3.9.13"
  }
 },
 "nbformat": 4,
 "nbformat_minor": 5
}
